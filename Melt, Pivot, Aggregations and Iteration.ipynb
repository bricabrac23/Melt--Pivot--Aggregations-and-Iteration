{
 "cells": [
  {
   "cell_type": "code",
   "execution_count": null,
   "id": "43c61910",
   "metadata": {},
   "outputs": [],
   "source": [
    "import numpy as np\n",
    "import pandas as pd\n",
    "import matplotlib as plt\n",
    "\n",
    "diabetes_data = pd.read_csv('diabetic_data.csv')\n",
    "\n",
    "'''\n",
    "Write code to demonstrate the following Pandas functions:\n",
    "1) Melt\n",
    "2) Pivot\n",
    "3) Aggregation\n",
    "4) Iteration\n",
    "5) Groupby\n",
    "'''"
   ]
  },
  {
   "cell_type": "code",
   "execution_count": null,
   "id": "71a80fec",
   "metadata": {},
   "outputs": [],
   "source": [
    "#Question 1: Melt\n"
   ]
  },
  {
   "cell_type": "code",
   "execution_count": null,
   "id": "fb8a8f9a",
   "metadata": {},
   "outputs": [],
   "source": [
    "#Question 2: Pivot"
   ]
  },
  {
   "cell_type": "code",
   "execution_count": null,
   "id": "247d4779",
   "metadata": {},
   "outputs": [],
   "source": [
    "#Question 3: Aggregation\n"
   ]
  },
  {
   "cell_type": "code",
   "execution_count": null,
   "id": "f1dc92ad",
   "metadata": {},
   "outputs": [],
   "source": [
    "#Question 4: Iteration\n"
   ]
  },
  {
   "cell_type": "code",
   "execution_count": null,
   "id": "25bdda6b",
   "metadata": {},
   "outputs": [],
   "source": [
    "#Question 5: Groupby\n"
   ]
  }
 ],
 "metadata": {
  "kernelspec": {
   "display_name": "Python 3.10.6 64-bit",
   "language": "python",
   "name": "python3"
  },
  "language_info": {
   "codemirror_mode": {
    "name": "ipython",
    "version": 3
   },
   "file_extension": ".py",
   "mimetype": "text/x-python",
   "name": "python",
   "nbconvert_exporter": "python",
   "pygments_lexer": "ipython3",
   "version": "3.10.6"
  },
  "vscode": {
   "interpreter": {
    "hash": "aee8b7b246df8f9039afb4144a1f6fd8d2ca17a180786b69acc140d282b71a49"
   }
  }
 },
 "nbformat": 4,
 "nbformat_minor": 5
}
